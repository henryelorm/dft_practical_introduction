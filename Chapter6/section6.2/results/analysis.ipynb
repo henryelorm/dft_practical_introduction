{
 "cells": [
  {
   "cell_type": "code",
   "execution_count": 1,
   "metadata": {},
   "outputs": [],
   "source": [
    "import re\n",
    "import numpy as np\n"
   ]
  },
  {
   "cell_type": "code",
   "execution_count": 2,
   "metadata": {},
   "outputs": [],
   "source": [
    "def read_frequencies(file_path):\n",
    "    frequencies = []\n",
    "\n",
    "    with open(file_path, 'r') as file:\n",
    "        lines = file.readlines()\n",
    "\n",
    "        for line in lines:\n",
    "            # Extracting the frequency from lines matching the pattern\n",
    "            match = re.search(r'^\\s*(\\d+)\\sf\\s+=', line)\n",
    "            if match:\n",
    "                frequency = float(line.split()[3])\n",
    "                frequencies.append(frequency)\n",
    "\n",
    "    return frequencies\n",
    "\n",
    "\n"
   ]
  },
  {
   "cell_type": "code",
   "execution_count": 20,
   "metadata": {},
   "outputs": [
    {
     "name": "stdout",
     "output_type": "stream",
     "text": [
      "4.715653819751657\n"
     ]
    }
   ],
   "source": [
    "file_path = 'hollow/OUTCAR'\n",
    "\n",
    "hollow_freq = read_frequencies(file_path='hollow/OUTCAR')\n",
    "bridge_freq = read_frequencies(file_path='bridge/OUTCAR')\n",
    "\n",
    "mid = len(bridge_freq) // 2\n",
    "bridge_freq = bridge_freq[:mid]\n",
    "prefactor = np.prod(hollow_freq)/ np.prod(bridge_freq)\n",
    "\n",
    "print(prefactor)"
   ]
  }
 ],
 "metadata": {
  "kernelspec": {
   "display_name": "base",
   "language": "python",
   "name": "python3"
  },
  "language_info": {
   "codemirror_mode": {
    "name": "ipython",
    "version": 3
   },
   "file_extension": ".py",
   "mimetype": "text/x-python",
   "name": "python",
   "nbconvert_exporter": "python",
   "pygments_lexer": "ipython3",
   "version": "3.10.9"
  },
  "orig_nbformat": 4
 },
 "nbformat": 4,
 "nbformat_minor": 2
}
