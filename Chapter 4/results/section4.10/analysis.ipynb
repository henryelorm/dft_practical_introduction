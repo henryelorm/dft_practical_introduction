{
 "cells": [
  {
   "cell_type": "code",
   "execution_count": 1,
   "metadata": {},
   "outputs": [],
   "source": [
    "def load_energy(filename=''):\n",
    "    with open(filename, 'r') as file:\n",
    "        # Read the content of the file\n",
    "        content = file.read()\n",
    "        # Extract the desired value from the content\n",
    "        e= float(content.strip())\n",
    "        # Print the value\n",
    "        return e\n"
   ]
  },
  {
   "cell_type": "code",
   "execution_count": 8,
   "metadata": {},
   "outputs": [],
   "source": [
    "en_cu_surf = load_energy(filename='Cu_surf/energy') # energy from Cu surface or slab calculation\n",
    "\n",
    "en_cuh = load_energy(filename='CuH/energy')   # energy from CuH (Cu with H adsorbant)  calc. H on-top configuration\n",
    "en_h =  -6.69422858 # energy from H2 dimer calculation"
   ]
  },
  {
   "cell_type": "code",
   "execution_count": 10,
   "metadata": {},
   "outputs": [
    {
     "name": "stdout",
     "output_type": "stream",
     "text": [
      "0.387978590000003\n"
     ]
    }
   ],
   "source": [
    "e_ad = en_cuh - 0.5*en_h - en_cu_surf # adsorbant energy\n",
    "\n",
    "print(e_ad)"
   ]
  }
 ],
 "metadata": {
  "kernelspec": {
   "display_name": "base",
   "language": "python",
   "name": "python3"
  },
  "language_info": {
   "codemirror_mode": {
    "name": "ipython",
    "version": 3
   },
   "file_extension": ".py",
   "mimetype": "text/x-python",
   "name": "python",
   "nbconvert_exporter": "python",
   "pygments_lexer": "ipython3",
   "version": "3.10.9"
  },
  "orig_nbformat": 4
 },
 "nbformat": 4,
 "nbformat_minor": 2
}
